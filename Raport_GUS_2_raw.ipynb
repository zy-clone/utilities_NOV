{
 "cells": [
  {
   "cell_type": "code",
   "execution_count": null,
   "metadata": {},
   "outputs": [],
   "source": [
    "#"
   ]
  },
  {
   "cell_type": "code",
   "execution_count": null,
   "metadata": {},
   "outputs": [],
   "source": [
    "import pandas as pd\n",
    "import numpy as np\n",
    "import os"
   ]
  },
  {
   "cell_type": "code",
   "execution_count": null,
   "metadata": {},
   "outputs": [],
   "source": [
    "pd.set_option('display.max_rows', 500)\n",
    "pd.set_option('display.max_columns', 500)\n",
    "pd.set_option('display.width', 1000)"
   ]
  },
  {
   "cell_type": "code",
   "execution_count": null,
   "metadata": {},
   "outputs": [],
   "source": [
    "os.chdir(path) #podanie ścieżki do katalogu z plikami źródłowymi"
   ]
  },
  {
   "cell_type": "code",
   "execution_count": null,
   "metadata": {},
   "outputs": [],
   "source": [
    "are_R_1=pd.read_excel(file_R_1, sheet_name=0) #import dwóch plików przygotowanych przez biling z danego roku R i roku R-1 (format excel)\n",
    "are_R=pd.read_excel(file_R, sheet_name=0)"
   ]
  },
  {
   "cell_type": "code",
   "execution_count": null,
   "metadata": {},
   "outputs": [],
   "source": [
    "are_R_1=are_R_1.iloc[:,0:12] #wycięcie wymaganych kolumn"
   ]
  },
  {
   "cell_type": "code",
   "execution_count": null,
   "metadata": {},
   "outputs": [],
   "source": [
    "are_R_1.shape"
   ]
  },
  {
   "cell_type": "code",
   "execution_count": null,
   "metadata": {},
   "outputs": [],
   "source": [
    "are_R.shape"
   ]
  },
  {
   "cell_type": "code",
   "execution_count": null,
   "metadata": {},
   "outputs": [],
   "source": [
    "#are_R.head() #podgląd"
   ]
  },
  {
   "cell_type": "code",
   "execution_count": null,
   "metadata": {},
   "outputs": [],
   "source": [
    "merged=are_R.merge(are_R_1, how='left', on=\"Obiekt\") #złączenie plików z roku R i R-1"
   ]
  },
  {
   "cell_type": "code",
   "execution_count": null,
   "metadata": {},
   "outputs": [],
   "source": [
    "merged=merged.drop(merged.columns[[7,8,9,10,11,12,13]], axis=1) #usunięcie niepotrzebnych kolumn"
   ]
  },
  {
   "cell_type": "code",
   "execution_count": null,
   "metadata": {},
   "outputs": [],
   "source": [
    "merged.head()"
   ]
  },
  {
   "cell_type": "code",
   "execution_count": null,
   "metadata": {},
   "outputs": [],
   "source": [
    "#uproszczenie nazw kolumn\n",
    "merged.columns=[\"Id_Odbiorcy\",\"Nazwa\", \"Obiekt\", \"taryfa\", \"sektor\", \"kwh\", \"m3\", \"gmina\", \"powiat\", \"wojewodztwo\", \"kod_gus\"]"
   ]
  },
  {
   "cell_type": "code",
   "execution_count": null,
   "metadata": {},
   "outputs": [],
   "source": [
    "merged['licznik']=1 #dodanie kolumny, która przyda się przy grupowaniu do zliczenia ilości wystąpień"
   ]
  },
  {
   "cell_type": "code",
   "execution_count": null,
   "metadata": {},
   "outputs": [],
   "source": [
    "merged.head()"
   ]
  },
  {
   "cell_type": "code",
   "execution_count": null,
   "metadata": {},
   "outputs": [],
   "source": [
    "#rozdzial tabeli na tabele, gdzie gaz dostarczany jest do klientow i na tabele, gdzie zuzycie gazu jest na potrzeby wlasne\n",
    "merged_bez_n=merged[merged['sektor']!='nie uwzględnione w raporcie']\n",
    "merged_tylko_n=merged[merged['sektor']=='nie uwzględnione w raporcie']"
   ]
  },
  {
   "cell_type": "code",
   "execution_count": null,
   "metadata": {},
   "outputs": [],
   "source": [
    "#grupowanie tabeli - gaz dostarczony do klientow\n",
    "grouped_bez_n=merged_bez_n.groupby(['kod_gus', 'sektor']).sum()\n",
    "grouped_bez_n=grouped_bez_n.reset_index()"
   ]
  },
  {
   "cell_type": "code",
   "execution_count": null,
   "metadata": {},
   "outputs": [],
   "source": [
    "#grupowanie tabeli - gaz zuzyty na potrzeby wlasne\n",
    "grouped_tylko_n=merged_tylko_n.groupby(['kod_gus', 'sektor']).sum()\n",
    "grouped_tylko_n=grouped_tylko_n.reset_index()"
   ]
  },
  {
   "cell_type": "markdown",
   "metadata": {},
   "source": [
    "# Transformacja danych - gaz do klientów"
   ]
  },
  {
   "cell_type": "code",
   "execution_count": null,
   "metadata": {},
   "outputs": [],
   "source": [
    "grouped_bez_n['sektor'].value_counts() #sprawdzenie ilości wystąpień wierszy dla poszczegolnych sektorow"
   ]
  },
  {
   "cell_type": "code",
   "execution_count": null,
   "metadata": {},
   "outputs": [],
   "source": [
    "grouped_bez_n.head()"
   ]
  },
  {
   "cell_type": "code",
   "execution_count": null,
   "metadata": {},
   "outputs": [],
   "source": [
    "grouped_bez_n_02=grouped_bez_n[grouped_bez_n['sektor']=='02']\n",
    "grouped_bez_n_03=grouped_bez_n[grouped_bez_n['sektor']=='03']\n",
    "grouped_bez_n_04=grouped_bez_n[grouped_bez_n['sektor']=='04']"
   ]
  },
  {
   "cell_type": "code",
   "execution_count": null,
   "metadata": {},
   "outputs": [],
   "source": [
    "#final_bez_n - tabela, w której w kolumnie \"kod_gus\" znajdą się wartości bez powtórzeń\n",
    "final_bez_n=pd.DataFrame(columns=range(0,26))"
   ]
  },
  {
   "cell_type": "code",
   "execution_count": null,
   "metadata": {},
   "outputs": [],
   "source": [
    "final_bez_n[0]=grouped_bez_n['kod_gus'] #przepisanie do finalnej tabeli"
   ]
  },
  {
   "cell_type": "code",
   "execution_count": null,
   "metadata": {},
   "outputs": [],
   "source": [
    "final_bez_n[1]=\"A\" #wypełnienie zgodnie z wytycznymi GUS"
   ]
  },
  {
   "cell_type": "code",
   "execution_count": null,
   "metadata": {},
   "outputs": [],
   "source": [
    "final_bez_n.head()"
   ]
  },
  {
   "cell_type": "code",
   "execution_count": null,
   "metadata": {},
   "outputs": [],
   "source": [
    "final_bez_n=final_bez_n.drop_duplicates(0) #usunięcie duplikatów"
   ]
  },
  {
   "cell_type": "code",
   "execution_count": null,
   "metadata": {},
   "outputs": [],
   "source": [
    "#dodanie do każdego kod_gus danych z sektorów, które występują pod danym kodem\n",
    "final_bez_n=final_bez_n.merge(grouped_bez_n_02, how='left', left_on=0, right_on='kod_gus')\n",
    "final_bez_n=final_bez_n.merge(grouped_bez_n_03, how='left', left_on=0, right_on='kod_gus')\n",
    "final_bez_n=final_bez_n.merge(grouped_bez_n_04, how='left', left_on=0, right_on='kod_gus')"
   ]
  },
  {
   "cell_type": "code",
   "execution_count": null,
   "metadata": {},
   "outputs": [],
   "source": [
    "#sektor 04\n",
    "final_bez_n[11].fillna(final_bez_n['licznik'], inplace=True)\n",
    "final_bez_n[20].fillna(final_bez_n['kwh']/1000, inplace=True)"
   ]
  },
  {
   "cell_type": "code",
   "execution_count": null,
   "metadata": {},
   "outputs": [],
   "source": [
    "#sektor 03\n",
    "final_bez_n[16].fillna(final_bez_n['licznik_y'], inplace=True)\n",
    "final_bez_n[23].fillna(final_bez_n['kwh_y']/1000, inplace=True)"
   ]
  },
  {
   "cell_type": "code",
   "execution_count": null,
   "metadata": {},
   "outputs": [],
   "source": [
    "#sektor 02\n",
    "final_bez_n[16].fillna(final_bez_n['licznik_x'], inplace=True)\n",
    "final_bez_n[23].fillna(final_bez_n['kwh_x']/1000, inplace=True)"
   ]
  },
  {
   "cell_type": "code",
   "execution_count": null,
   "metadata": {},
   "outputs": [],
   "source": [
    "final_bez_n.fillna(0, inplace=True) #wypełnienie pozycji NaN zerami zgodnie z wytycznymi GUS"
   ]
  },
  {
   "cell_type": "code",
   "execution_count": null,
   "metadata": {},
   "outputs": [],
   "source": [
    "final_bez_n=final_bez_n.iloc[:,0:26]"
   ]
  },
  {
   "cell_type": "code",
   "execution_count": null,
   "metadata": {},
   "outputs": [],
   "source": [
    "#wypełnianie poszczególnych kolumn według wytycznych GUS\n",
    "final_bez_n[7]=final_bez_n[11]+final_bez_n[15]+final_bez_n[16]+final_bez_n[17]+final_bez_n[18] #sumowanie liczby odbiorców\n",
    "final_bez_n[8]=final_bez_n[9]+final_bez_n[15]+final_bez_n[16]+final_bez_n[17] #sumowanie liczby odbiorców bez hurtu\n",
    "final_bez_n[9]=final_bez_n[11]+final_bez_n[13]\n",
    "final_bez_n[19]=final_bez_n[20]+final_bez_n[22]+final_bez_n[23]+final_bez_n[24]+final_bez_n[25]"
   ]
  },
  {
   "cell_type": "code",
   "execution_count": null,
   "metadata": {},
   "outputs": [],
   "source": [
    "final_bez_n.iloc[:,2:19]=final_bez_n.iloc[:,2:19].astype(int)"
   ]
  },
  {
   "cell_type": "code",
   "execution_count": null,
   "metadata": {},
   "outputs": [],
   "source": [
    "col_numbers=[19,20,23]\n",
    "for c in col_numbers:\n",
    "    final_bez_n.iloc[:,c]=final_bez_n.iloc[:,c].round(1).astype(str).apply(lambda x: x.replace(\".\",\",\"))"
   ]
  },
  {
   "cell_type": "code",
   "execution_count": null,
   "metadata": {},
   "outputs": [],
   "source": [
    "final_bez_n.head(100)"
   ]
  },
  {
   "cell_type": "code",
   "execution_count": null,
   "metadata": {},
   "outputs": [],
   "source": [
    "#zapisanie danych do pliku *.csv gotowego do importu do systemu GUSu\n",
    "final_bez_n.iloc[:,0:26].to_csv(\"Dzial1_Sprzedaz_do_klientow.csv\", sep=\";\", index=False)"
   ]
  },
  {
   "cell_type": "markdown",
   "metadata": {},
   "source": [
    "# Transformacje danych - zużycie własne"
   ]
  },
  {
   "cell_type": "markdown",
   "metadata": {},
   "source": [
    "### Operacje w tej części są analogiczne do tych przeprowadzanych powyżej"
   ]
  },
  {
   "cell_type": "code",
   "execution_count": null,
   "metadata": {},
   "outputs": [],
   "source": [
    "grouped_tylko_n['sektor'].value_counts()"
   ]
  },
  {
   "cell_type": "code",
   "execution_count": null,
   "metadata": {},
   "outputs": [],
   "source": [
    "grouped_tylko_n.head()"
   ]
  },
  {
   "cell_type": "code",
   "execution_count": null,
   "metadata": {},
   "outputs": [],
   "source": [
    "final_tylko_n=pd.DataFrame(columns=range(0,6))"
   ]
  },
  {
   "cell_type": "code",
   "execution_count": null,
   "metadata": {},
   "outputs": [],
   "source": [
    "final_tylko_n"
   ]
  },
  {
   "cell_type": "code",
   "execution_count": null,
   "metadata": {},
   "outputs": [],
   "source": [
    "final_tylko_n[0]=grouped_tylko_n['kod_gus']"
   ]
  },
  {
   "cell_type": "code",
   "execution_count": null,
   "metadata": {},
   "outputs": [],
   "source": [
    "final_tylko_n[1]=\"A\""
   ]
  },
  {
   "cell_type": "code",
   "execution_count": null,
   "metadata": {},
   "outputs": [],
   "source": [
    "final_tylko_n.head()"
   ]
  },
  {
   "cell_type": "code",
   "execution_count": null,
   "metadata": {},
   "outputs": [],
   "source": [
    "final_tylko_n=final_tylko_n.drop_duplicates(0)"
   ]
  },
  {
   "cell_type": "code",
   "execution_count": null,
   "metadata": {},
   "outputs": [],
   "source": [
    "final_tylko_n=final_tylko_n.merge(grouped_tylko_n, how='left', left_on=0, right_on='kod_gus')"
   ]
  },
  {
   "cell_type": "code",
   "execution_count": null,
   "metadata": {},
   "outputs": [],
   "source": [
    "final_tylko_n[4].fillna(final_tylko_n['kwh']/1000, inplace=True)"
   ]
  },
  {
   "cell_type": "code",
   "execution_count": null,
   "metadata": {},
   "outputs": [],
   "source": [
    "final_tylko_n[2]=final_tylko_n[3]+final_tylko_n[4]+final_tylko_n[5]"
   ]
  },
  {
   "cell_type": "code",
   "execution_count": null,
   "metadata": {},
   "outputs": [],
   "source": [
    "final_tylko_n.fillna(0, inplace=True)"
   ]
  },
  {
   "cell_type": "code",
   "execution_count": null,
   "metadata": {},
   "outputs": [],
   "source": [
    "final_tylko_n=final_tylko_n.iloc[:,0:6]"
   ]
  },
  {
   "cell_type": "code",
   "execution_count": null,
   "metadata": {},
   "outputs": [],
   "source": [
    "col_numbers=[2,4]\n",
    "for c in col_numbers:\n",
    "    final_tylko_n.iloc[:,c]=final_tylko_n.iloc[:,c].round(1).astype(str).apply(lambda x: x.replace(\".\",\",\"))"
   ]
  },
  {
   "cell_type": "code",
   "execution_count": null,
   "metadata": {},
   "outputs": [],
   "source": [
    "final_tylko_n.to_csv(\"Dzial2_Zuzycie_wlasne.csv\", sep=\";\", index=False)\n",
    "final_tylko_n"
   ]
  }
 ],
 "metadata": {
  "kernelspec": {
   "display_name": "Python 3",
   "language": "python",
   "name": "python3"
  },
  "language_info": {
   "codemirror_mode": {
    "name": "ipython",
    "version": 3
   },
   "file_extension": ".py",
   "mimetype": "text/x-python",
   "name": "python",
   "nbconvert_exporter": "python",
   "pygments_lexer": "ipython3",
   "version": "3.7.5"
  }
 },
 "nbformat": 4,
 "nbformat_minor": 4
}
